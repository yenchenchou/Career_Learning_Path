{
 "cells": [
  {
   "attachments": {},
   "cell_type": "markdown",
   "metadata": {},
   "source": [
    "# Makemore: Implement the paper MLP\n",
    "\n",
    "Following [Bengio et al. 2003](https://www.jmlr.org/papers/volume3/bengio03a/bengio03a.pdf) and [karpathy Andrej's](https://github.com/karpathy/makemore) repo, we try to implement the model step by step with the following\n",
    "\n",
    "1. `makemore-practice-part1-paper-mlp`: \n",
    "    - Demonstration of how statisitcal models can be transform to scalable nn models. For example, bi-gram to nn from scratch.\n",
    "2. `makemore-practice-part2-paper-mlp`: \n",
    "    - Implement nn from paper. \n",
    "    - Introduce basic concepts, for example embedding, tensor indexing, matrix operations, train-test-split,"
   ]
  },
  {
   "cell_type": "code",
   "execution_count": 2,
   "metadata": {},
   "outputs": [],
   "source": [
    "import math\n",
    "import os\n",
    "import random\n",
    "import string\n",
    "\n",
    "import matplotlib.pyplot as plt\n",
    "import numpy as np\n",
    "import torch\n",
    "\n",
    "from graphviz import Digraph\n",
    "from torch.nn import functional as F\n",
    "\n",
    "os.chdir(\"/home/project\")\n",
    "%matplotlib inline\n",
    "# graphviz.set_jupyter_format(\"svg\")"
   ]
  },
  {
   "attachments": {},
   "cell_type": "markdown",
   "metadata": {},
   "source": [
    "## 1. Implement nn from Paper\n",
    "\n",
    "- MLP: Implement the paper MLP, following [Bengio et al. 2003](https://www.jmlr.org/papers/volume3/bengio03a/bengio03a.pdf)\n",
    "\n",
    "     > In most experiments below, the neural network has one hidden layer beyond the word features\n",
    "     > mapping, and optionally, direct connections from the word features to the output. Therefore there\n",
    "     > are really two hidden layers: the shared word features layer C, which has no non-linearity (it would\n",
    "     > not add anything useful), and the ordinary hyperbolic tangent hidden layer. More precisely, the\n",
    "     > neural network computes the following function, with a softmax output layer, which guarantees\n",
    "     > positive probabilities summing to 1\n",
    "\n"
   ]
  },
  {
   "attachments": {},
   "cell_type": "markdown",
   "metadata": {},
   "source": [
    "### 1. Build a naive semi-manuall network\n",
    "\n",
    "**1.1 Model global settings**"
   ]
  },
  {
   "cell_type": "code",
   "execution_count": 3,
   "metadata": {},
   "outputs": [],
   "source": [
    "size = 3"
   ]
  },
  {
   "attachments": {},
   "cell_type": "markdown",
   "metadata": {},
   "source": [
    "**1.2 Read and Prepare Data**"
   ]
  },
  {
   "cell_type": "code",
   "execution_count": 4,
   "metadata": {},
   "outputs": [
    {
     "name": "stdout",
     "output_type": "stream",
     "text": [
      "torch.Size([228146, 3]) torch.Size([228146])\n",
      "Rows: 32033\n",
      "Top 5 rows: ['emma', 'olivia', 'ava', 'isabella', 'sophia']\n",
      "{'a': 1, 'b': 2, 'c': 3, 'd': 4, 'e': 5, 'f': 6, 'g': 7, 'h': 8, 'i': 9, 'j': 10, 'k': 11, 'l': 12, 'm': 13, 'n': 14, 'o': 15, 'p': 16, 'q': 17, 'r': 18, 's': 19, 't': 20, 'u': 21, 'v': 22, 'w': 23, 'x': 24, 'y': 25, 'z': 26, '.': 0}\n",
      "{1: 'a', 2: 'b', 3: 'c', 4: 'd', 5: 'e', 6: 'f', 7: 'g', 8: 'h', 9: 'i', 10: 'j', 11: 'k', 12: 'l', 13: 'm', 14: 'n', 15: 'o', 16: 'p', 17: 'q', 18: 'r', 19: 's', 20: 't', 21: 'u', 22: 'v', 23: 'w', 24: 'x', 25: 'y', 26: 'z', 0: '.'}\n",
      "tensor([[19,  9,  3],\n",
      "        [ 0,  0,  1],\n",
      "        [ 5,  5, 19],\n",
      "        [20,  9,  3],\n",
      "        [ 9,  5, 14]])\n",
      "tensor([ 9, 18,  8,  5,  0])\n",
      "tensor([[ 0,  0, 26],\n",
      "        [ 0, 26, 21],\n",
      "        [26, 21,  8],\n",
      "        [21,  8,  1],\n",
      "        [ 8,  1,  9]])\n",
      "tensor([21,  8,  1,  9,  2])\n"
     ]
    }
   ],
   "source": [
    "def read_txt(nrows: int = None):\n",
    "    words = []\n",
    "    with open(\"practice/makemore/name.txt\", \"r\") as f:\n",
    "        if nrows:\n",
    "            for _ in range(nrows):\n",
    "                words.append(f.readline().splitlines()[0])\n",
    "        else:\n",
    "            for line in f:\n",
    "                words.append(line.splitlines()[0])\n",
    "    return words\n",
    "\n",
    "\n",
    "def get_lookup_map():\n",
    "    lowercases = string.ascii_lowercase\n",
    "    stoi = {s: i for i, s in enumerate(lowercases, start=1)}\n",
    "    stoi[\".\"] = 0\n",
    "    itos = {val: key for key, val in stoi.items()}\n",
    "    return stoi, itos\n",
    "\n",
    "\n",
    "def preprocess(words: list, stoi: dict, size: int = 3):\n",
    "    x, y = [], []\n",
    "    for word in words:\n",
    "        context = [0] * size\n",
    "        for s in word + \".\":\n",
    "            idx = stoi[s]\n",
    "            x.append(context)\n",
    "            y.append(idx)\n",
    "            context = context[1:] + [idx]\n",
    "    x = torch.tensor(x)\n",
    "    y = torch.tensor(y)\n",
    "    print(x.shape, y.shape)\n",
    "    return (x, y)\n",
    "\n",
    "\n",
    "def train_eval_test_split(X: torch.tensor, Y: torch.tensor) -> torch.tensor:\n",
    "    train_cnt = int(X.shape[0] * 0.8)\n",
    "    test_cnt = int(X.shape[0] * 0.9)\n",
    "    idx = torch.randperm(train_cnt)\n",
    "    x_train, y_train = X[idx], Y[idx]\n",
    "    x_eval, y_eval = X[train_cnt:test_cnt], Y[train_cnt:test_cnt]\n",
    "    x_test, y_test = X[test_cnt:], Y[test_cnt:]\n",
    "    return x_train, y_train, x_eval, y_eval, x_test, y_test\n",
    "\n",
    "\n",
    "words = read_txt(None)\n",
    "stoi, itos = get_lookup_map()\n",
    "X, Y = preprocess(words=words[:], stoi=stoi, size=size)\n",
    "x_train, y_train, x_eval, y_eval, x_test, y_test = train_eval_test_split(X, Y)\n",
    "print(f\"Rows: {len(words)}\")\n",
    "print(f\"Top 5 rows: {words[:5]}\")\n",
    "print(stoi)\n",
    "print(itos)\n",
    "print(x_train[:5])\n",
    "print(y_train[:5])\n",
    "print(x_eval[:5])\n",
    "print(y_eval[:5])"
   ]
  },
  {
   "attachments": {},
   "cell_type": "markdown",
   "metadata": {},
   "source": [
    "**1.3 embedding, tensor indexing, matrix operations, train-test-split**"
   ]
  },
  {
   "attachments": {},
   "cell_type": "markdown",
   "metadata": {},
   "source": [
    "**slower examples than .view**\n",
    "\n",
    "```python\n",
    "tmp = C[torch.tensor([[0,0,0],[0,0,1]])]\n",
    "torch.cat(torch.unbind(tmp, dim=1), dim=1)\n",
    "torch.cat((tmp[:, 0, :], tmp[:, 1, :], tmp[:, 2, :]), dim=1)\n",
    "\n",
    "```\n"
   ]
  },
  {
   "cell_type": "code",
   "execution_count": 7,
   "metadata": {},
   "outputs": [],
   "source": [
    "g = torch.Generator().manual_seed(2147483647)\n",
    "C = torch.randn((27, 2), generator=g)\n",
    "w1 = torch.randn((X.shape[1] * C.shape[1], 200), generator=g)\n",
    "b1 = torch.randn(200, generator=g)\n",
    "w2 = torch.randn((200, 27), generator=g)\n",
    "b2 = torch.randn(27, generator=g)\n",
    "parameters = [C, w1, b1, w2, b2]"
   ]
  },
  {
   "cell_type": "code",
   "execution_count": 8,
   "metadata": {},
   "outputs": [
    {
     "data": {
      "text/plain": [
       "6881"
      ]
     },
     "execution_count": 8,
     "metadata": {},
     "output_type": "execute_result"
    }
   ],
   "source": [
    "sum([p.nelement() for p in parameters])"
   ]
  },
  {
   "cell_type": "code",
   "execution_count": 9,
   "metadata": {},
   "outputs": [],
   "source": [
    "loss_train, loss_eval, steps = [], [], []"
   ]
  },
  {
   "attachments": {},
   "cell_type": "markdown",
   "metadata": {},
   "source": [
    "**1.4 model fitting, mini-batch, stocastic gradient concept**"
   ]
  },
  {
   "cell_type": "code",
   "execution_count": 10,
   "metadata": {},
   "outputs": [
    {
     "name": "stdout",
     "output_type": "stream",
     "text": [
      "train loss: 22.363807678222656\n",
      "train loss: 2.4846444129943848\n",
      "train loss: 2.432525396347046\n",
      "train loss: 2.2564423084259033\n",
      "train loss: 2.2753093242645264\n",
      "train loss: 2.442457437515259\n",
      "train loss: 2.4400322437286377\n",
      "train loss: 2.344353437423706\n",
      "train loss: 2.595893144607544\n",
      "train loss: 2.123338222503662\n",
      "train loss: 2.1696715354919434\n",
      "train loss: 2.035735845565796\n",
      "train loss: 2.4063875675201416\n",
      "train loss: 2.2033839225769043\n",
      "train loss: 2.3062942028045654\n",
      "train loss: 2.445643186569214\n",
      "train loss: 2.3403263092041016\n",
      "train loss: 2.366438627243042\n",
      "train loss: 2.26045823097229\n",
      "train loss: 2.3747286796569824\n",
      "train loss: 2.1830456256866455\n"
     ]
    }
   ],
   "source": [
    "# embedding x @ C -> (data size, size) * (size, embedding size)\n",
    "# We don't change to one_hot encoding since we notice the result stays the same due to the matrix multiplication\n",
    "# turn one hot like [X, 27] @ [27, 2] becomes unnecessary\n",
    "# F.one_hot(torch.tensor(5), num_classes=27).float() @ C\n",
    "\n",
    "def train(mini_batch: int = 32):\n",
    "    \"\"\"model fitting\n",
    "\n",
    "    Args:\n",
    "        mini_batch (int, optional): _description_. Defaults to 32.\n",
    "\n",
    "    Returns:\n",
    "        _type_: _description_\n",
    "    \"\"\"\n",
    "\n",
    "    for p in parameters:\n",
    "        p.requires_grad = True\n",
    "\n",
    "    for i in range(200000):\n",
    "        ix = torch.randint(0, x_train.shape[0], (mini_batch,)) # mini-batch, stocastic gradient concept\n",
    "        embedding = C[x_train[ix]]\n",
    "        h = torch.tanh(embedding.view(-1, x_train.shape[1] * C.shape[1]) @ w1 + b1)\n",
    "        logits = h @ w2 + b2\n",
    "        loss = F.cross_entropy(logits, y_train[ix])\n",
    "\n",
    "        for p in parameters:\n",
    "            p.grad = None\n",
    "\n",
    "        loss.backward()\n",
    "\n",
    "        lr = 0.1 if i < 10000 else 0.01\n",
    "        for p in parameters:\n",
    "            p.data -= lr * p.grad\n",
    "\n",
    "        loss_train.append(loss.log10().item())\n",
    "        steps.append(i)\n",
    "\n",
    "        if i % 10000 == 0:\n",
    "            print(f\"train loss: {loss}\")\n",
    "\n",
    "    print(f\"train loss: {loss}\")\n",
    "    return loss_train, steps\n",
    "\n",
    "\n",
    "def predict():\n",
    "    for _ in range(20):\n",
    "        out = []\n",
    "        context = [0] * size\n",
    "        while True:\n",
    "            embedding = C[torch.tensor(context)]\n",
    "            h1 = torch.tanh(embedding.view(1, -1) @ w1 + b1)\n",
    "            logits = h1 @ w2 + b2\n",
    "            probs = F.softmax(logits, dim=1)\n",
    "            ix = torch.multinomial(probs, num_samples=1, generator=g).item()\n",
    "            context = context[1:] + [ix]\n",
    "            out.append(ix)\n",
    "            if ix == 0:\n",
    "                break\n",
    "        print(\"\".join([itos[i] for i in out]))\n",
    "\n",
    "\n",
    "loss_train, steps = train(mini_batch=64)"
   ]
  },
  {
   "cell_type": "code",
   "execution_count": 11,
   "metadata": {},
   "outputs": [
    {
     "data": {
      "text/plain": [
       "tensor(2.2785, grad_fn=<NllLossBackward0>)"
      ]
     },
     "execution_count": 11,
     "metadata": {},
     "output_type": "execute_result"
    }
   ],
   "source": [
    "# training loss\n",
    "emb = C[x_train]  # (32, 3, 2)\n",
    "h = torch.tanh(emb.view(-1, x_train.shape[1] * C.shape[1]) @ w1 + b1)  # (32, 100)\n",
    "logits = h @ w2 + b2  # (32, 27)\n",
    "loss = F.cross_entropy(logits, y_train)\n",
    "loss"
   ]
  },
  {
   "cell_type": "code",
   "execution_count": 12,
   "metadata": {},
   "outputs": [
    {
     "data": {
      "text/plain": [
       "tensor(2.5279, grad_fn=<NllLossBackward0>)"
      ]
     },
     "execution_count": 12,
     "metadata": {},
     "output_type": "execute_result"
    }
   ],
   "source": [
    "# eval loss\n",
    "emb = C[x_eval]  # (32, 3, 2)\n",
    "h = torch.tanh(emb.view(-1, x_eval.shape[1] * C.shape[1]) @ w1 + b1)  # (32, 100)\n",
    "logits = h @ w2 + b2  # (32, 27)\n",
    "loss = F.cross_entropy(logits, y_eval)\n",
    "loss"
   ]
  },
  {
   "cell_type": "code",
   "execution_count": 13,
   "metadata": {},
   "outputs": [
    {
     "data": {
      "text/plain": [
       "tensor(2.5319, grad_fn=<NllLossBackward0>)"
      ]
     },
     "execution_count": 13,
     "metadata": {},
     "output_type": "execute_result"
    }
   ],
   "source": [
    "# test loss\n",
    "emb = C[x_test]  # (32, 3, 2)\n",
    "h = torch.tanh(emb.view(-1, x_test.shape[1] * C.shape[1]) @ w1 + b1)  # (32, 100)\n",
    "logits = h @ w2 + b2  # (32, 27)\n",
    "loss = F.cross_entropy(logits, y_test)\n",
    "loss"
   ]
  },
  {
   "cell_type": "code",
   "execution_count": 14,
   "metadata": {},
   "outputs": [
    {
     "data": {
      "text/plain": [
       "[<matplotlib.lines.Line2D at 0x7efcdfb9f1f0>]"
      ]
     },
     "execution_count": 14,
     "metadata": {},
     "output_type": "execute_result"
    },
    {
     "data": {
      "image/png": "[encoded data removed]",
      "text/plain": [
       "<Figure size 640x480 with 1 Axes>"
      ]
     },
     "metadata": {},
     "output_type": "display_data"
    }
   ],
   "source": [
    "plt.plot(steps, loss_train)"
   ]
  },
  {
   "attachments": {},
   "cell_type": "markdown",
   "metadata": {},
   "source": [
    "**1.5 prediction**"
   ]
  },
  {
   "cell_type": "code",
   "execution_count": 73,
   "metadata": {},
   "outputs": [
    {
     "name": "stdout",
     "output_type": "stream",
     "text": [
      "magdimanoy.\n",
      "ceenelob.\n",
      "fynelyn.\n",
      "lynn.\n",
      "zaylaana.\n",
      "maliannasree.\n",
      "kayshi.\n",
      "cay.\n",
      "layrena.\n",
      "japken.\n",
      "ban.\n",
      "suna.\n",
      "brae.\n",
      "kat.\n",
      "ali.\n",
      "jarya.\n",
      "karishasheitharaya.\n",
      "bhehann.\n",
      "keae.\n",
      "dha.\n"
     ]
    }
   ],
   "source": [
    "predict()"
   ]
  },
  {
   "attachments": {},
   "cell_type": "markdown",
   "metadata": {},
   "source": [
    "**1.6 learning weight visualization for model explanation**"
   ]
  },
  {
   "cell_type": "code",
   "execution_count": 54,
   "metadata": {},
   "outputs": [],
   "source": [
    "# total_var = torch.var(C)\n",
    "# U, S, V = torch.pca_lowrank(C, niter=5)\n",
    "# pca_var = torch.var(V.view(-1))\n",
    "# 100 * pca_var / total_var"
   ]
  },
  {
   "cell_type": "code",
   "execution_count": 55,
   "metadata": {},
   "outputs": [],
   "source": [
    "# top_pca = C @ V[:, :2]"
   ]
  },
  {
   "cell_type": "code",
   "execution_count": 15,
   "metadata": {},
   "outputs": [
    {
     "data": {
      "image/png": "[encoded data removed]",
      "text/plain": [
       "<Figure size 800x800 with 1 Axes>"
      ]
     },
     "metadata": {},
     "output_type": "display_data"
    }
   ],
   "source": [
    "plt.figure(figsize=(8,8))\n",
    "plt.scatter(C[:,0].data, C[:,1].data, s=200)\n",
    "for i in range(C.shape[0]):\n",
    "    plt.text(C[i,0].item(), C[i,1].item(), itos[i], ha=\"center\", va=\"center\", color='white')\n",
    "plt.grid('minor')"
   ]
  },
  {
   "cell_type": "code",
   "execution_count": null,
   "metadata": {},
   "outputs": [],
   "source": []
  }
 ],
 "metadata": {
  "kernelspec": {
   "display_name": ".venv",
   "language": "python",
   "name": "python3"
  },
  "language_info": {
   "codemirror_mode": {
    "name": "ipython",
    "version": 3
   },
   "file_extension": ".py",
   "mimetype": "text/x-python",
   "name": "python",
   "nbconvert_exporter": "python",
   "pygments_lexer": "ipython3",
   "version": "3.10.11"
  },
  "orig_nbformat": 4
 },
 "nbformat": 4,
 "nbformat_minor": 2
}
