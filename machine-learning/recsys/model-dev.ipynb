{
 "cells": [
  {
   "cell_type": "markdown",
   "metadata": {},
   "source": [
    "## Steps\n",
    "1. Reproducing kaggle https://www.kaggle.com/code/jamesloy/deep-learning-based-recommender-systems\n",
    "2. Recreate all models in neural collaborative filtering"
   ]
  },
  {
   "cell_type": "code",
   "execution_count": 1,
   "metadata": {},
   "outputs": [],
   "source": [
    "import os\n",
    "\n",
    "os.chdir(\"/Users/yenchenchou/Documents/GitHub/mle-career-path\")"
   ]
  },
  {
   "cell_type": "code",
   "execution_count": 2,
   "metadata": {},
   "outputs": [],
   "source": [
    "import random\n",
    "import polars as pl\n",
    "import pandas as pd\n",
    "import numpy as np\n",
    "import torch\n",
    "from torch.utils.data import Dataset, DataLoader\n",
    "from torchvision import datasets"
   ]
  },
  {
   "cell_type": "code",
   "execution_count": 3,
   "metadata": {},
   "outputs": [],
   "source": [
    "def available_device():\n",
    "    if torch.backends.mps.is_available():\n",
    "        device = torch.device(\"mps\")\n",
    "    elif torch.cuda.is_available():\n",
    "        device = torch.device(\"cuda\")\n",
    "    else:\n",
    "        device = \"cpu\"\n",
    "    print(f\"Device: {device}\")\n",
    "    return device\n",
    "\n",
    "\n",
    "def fix_seed(seed: int) -> None:\n",
    "    torch.manual_seed(seed)\n",
    "    random.seed(seed)\n",
    "    np.random.seed(seed)\n",
    "    if torch.cuda.is_available():\n",
    "        torch.cuda.manual_seed()\n",
    "        torch.cuda.manual_seed_all()"
   ]
  },
  {
   "cell_type": "code",
   "execution_count": 4,
   "metadata": {},
   "outputs": [
    {
     "name": "stdout",
     "output_type": "stream",
     "text": [
      "Device: mps\n"
     ]
    }
   ],
   "source": [
    "device = available_device()\n",
    "fix_seed(seed=5432)"
   ]
  },
  {
   "cell_type": "code",
   "execution_count": 79,
   "metadata": {},
   "outputs": [],
   "source": [
    "class MovieLensPrep:\n",
    "    def __init__(self):\n",
    "        self.df = None\n",
    "\n",
    "    def load_df(self, **plkwargs) -> None:\n",
    "        self.df = pl.from_pandas(\n",
    "            pd.read_table(\n",
    "                \"data/ml-1m/ratings.dat\",\n",
    "                header=None,\n",
    "                sep=\"::\",\n",
    "                names=[\"user_id\", \"movie_id\", \"rating\", \"timestamp\"],\n",
    "                nrows=100,\n",
    "            )\n",
    "        )\n",
    "\n",
    "    def clean_df(self) -> None:\n",
    "        self.df = self.df.sort([\"user_id\", \"timestamp\"])\n",
    "\n",
    "    def split_df(\n",
    "        self,\n",
    "        method: str = \"leave-one-out\",\n",
    "        n: int = 1,\n",
    "    ) -> tuple[pl.DataFrame, pl.DataFrame, pl.DataFrame]:\n",
    "        if method == \"leave-one-out\":\n",
    "            n = 1\n",
    "            df_eval_test = self.df.group_by([\"user_id\"], maintain_order=True).tail(\n",
    "                n=2 * n\n",
    "            )\n",
    "            df_train = self.df.join(df_eval_test, on=self.df.columns, how=\"anti\")\n",
    "            df_test = df_eval_test.group_by([\"user_id\"], maintain_order=True).tail(n=n)\n",
    "            df_eval = df_eval_test.group_by([\"user_id\"], maintain_order=True).head(n=n)\n",
    "        return df_train, df_eval, df_test\n",
    "\n",
    "    def neg_sampling(self, df_train: pl.DataFrame, ratio: int = 4) -> pl.DataFrame:\n",
    "        # 1. get all items\n",
    "        uniq_items = self.df[\"user_id\"].unique()\n",
    "        # 2. get uniq user item pairs\n",
    "        user_item_pairs = set(zip(df_train[\"user_id\"], df_train[\"movie_id\"]))\n",
    "        # 3. get negative sampling\n",
    "        users, items, labels = [], [], []\n",
    "        for user, item in user_item_pairs:\n",
    "            users.append(user)\n",
    "            items.append(item)\n",
    "            labels.append(1)\n",
    "            neg_item = np.random.choice(uniq_items, replace=True)\n",
    "            while (user, neg_item) in user_item_pairs:\n",
    "                neg_item = np.random.choice(uniq_items, replace=True)\n",
    "            users.append(user)\n",
    "            items.append(neg_item)\n",
    "            labels.append(0)\n",
    "        return torch.tensor(users), torch.tensor(items), torch.tensor(labels)\n",
    "\n",
    "    def __call__(self):\n",
    "        self.load_data()\n",
    "        self.clean_data()\n",
    "        df_train, df_eval, df_test = self.split_data(method=\"leave-one-out\")\n",
    "        df_train = self.neg_sampling(df_train)\n",
    "        return df_train, df_eval, df_test\n",
    "\n",
    "\n",
    "def MovieLensDataset(Dataset):\n",
    "    def __init__(self, data, label=None):\n",
    "        self.data = data\n",
    "        self.label = label\n",
    "\n",
    "    def __len__(self):\n",
    "        return len(self.data)\n",
    "\n",
    "    def __getitem__(self, idx: int):\n",
    "        if self.label is None:\n",
    "            return self.data[idx]\n",
    "        else:\n",
    "            return self.data[idx], self.label[idx]"
   ]
  },
  {
   "cell_type": "code",
   "execution_count": 80,
   "metadata": {},
   "outputs": [
    {
     "name": "stderr",
     "output_type": "stream",
     "text": [
      "/var/folders/d_/pfy4llcj09n25dxj0djd4__r0000gn/T/ipykernel_12211/4209916079.py:7: ParserWarning: Falling back to the 'python' engine because the 'c' engine does not support regex separators (separators > 1 char and different from '\\s+' are interpreted as regex); you can avoid this warning by specifying engine='python'.\n",
      "  pd.read_table(\n"
     ]
    }
   ],
   "source": [
    "data_prep = MovieLensPrep()\n",
    "df_train, df_eval, df_test = data_prep()\n",
    "train_loader = DataLoader(df_train, batch_size=batch_size)\n",
    "eval_loader = DataLoader(df_eval, batch_size=batch_size)"
   ]
  },
  {
   "cell_type": "code",
   "execution_count": 88,
   "metadata": {},
   "outputs": [
    {
     "name": "stderr",
     "output_type": "stream",
     "text": [
      "/var/folders/d_/pfy4llcj09n25dxj0djd4__r0000gn/T/ipykernel_12211/4209916079.py:7: ParserWarning: Falling back to the 'python' engine because the 'c' engine does not support regex separators (separators > 1 char and different from '\\s+' are interpreted as regex); you can avoid this warning by specifying engine='python'.\n",
      "  pd.read_table(\n"
     ]
    },
    {
     "data": {
      "text/plain": [
       "tensor(1)"
      ]
     },
     "execution_count": 88,
     "metadata": {},
     "output_type": "execute_result"
    }
   ],
   "source": [
    "data_prep()[0][0][0]"
   ]
  },
  {
   "cell_type": "code",
   "execution_count": 84,
   "metadata": {},
   "outputs": [
    {
     "data": {
      "text/plain": [
       "tensor([1, 2])"
      ]
     },
     "execution_count": 84,
     "metadata": {},
     "output_type": "execute_result"
    }
   ],
   "source": [
    "torch.tensor([1, 2])"
   ]
  },
  {
   "cell_type": "code",
   "execution_count": 57,
   "metadata": {},
   "outputs": [
    {
     "data": {
      "text/html": [
       "<div><style>\n",
       ".dataframe > thead > tr,\n",
       ".dataframe > tbody > tr {\n",
       "  text-align: right;\n",
       "  white-space: pre-wrap;\n",
       "}\n",
       "</style>\n",
       "<small>shape: (2, 4)</small><table border=\"1\" class=\"dataframe\"><thead><tr><th>user_id</th><th>movie_id</th><th>rating</th><th>timestamp</th></tr><tr><td>i64</td><td>i64</td><td>i64</td><td>i64</td></tr></thead><tbody><tr><td>1</td><td>3186</td><td>4</td><td>978300019</td></tr><tr><td>1</td><td>1270</td><td>5</td><td>978300055</td></tr></tbody></table></div>"
      ],
      "text/plain": [
       "shape: (2, 4)\n",
       "┌─────────┬──────────┬────────┬───────────┐\n",
       "│ user_id ┆ movie_id ┆ rating ┆ timestamp │\n",
       "│ ---     ┆ ---      ┆ ---    ┆ ---       │\n",
       "│ i64     ┆ i64      ┆ i64    ┆ i64       │\n",
       "╞═════════╪══════════╪════════╪═══════════╡\n",
       "│ 1       ┆ 3186     ┆ 4      ┆ 978300019 │\n",
       "│ 1       ┆ 1270     ┆ 5      ┆ 978300055 │\n",
       "└─────────┴──────────┴────────┴───────────┘"
      ]
     },
     "execution_count": 57,
     "metadata": {},
     "output_type": "execute_result"
    }
   ],
   "source": [
    "df_train.head(2)"
   ]
  },
  {
   "cell_type": "code",
   "execution_count": 90,
   "metadata": {},
   "outputs": [
    {
     "name": "stderr",
     "output_type": "stream",
     "text": [
      "/var/folders/d_/pfy4llcj09n25dxj0djd4__r0000gn/T/ipykernel_12211/2464651105.py:1: ParserWarning: Falling back to the 'python' engine because the 'c' engine does not support regex separators (separators > 1 char and different from '\\s+' are interpreted as regex); you can avoid this warning by specifying engine='python'.\n",
      "  ratings = pd.read_table(\n"
     ]
    },
    {
     "data": {
      "text/plain": [
       "{1: [1193,\n",
       "  661,\n",
       "  914,\n",
       "  3408,\n",
       "  2355,\n",
       "  1197,\n",
       "  1287,\n",
       "  2804,\n",
       "  594,\n",
       "  919,\n",
       "  595,\n",
       "  938,\n",
       "  2398,\n",
       "  2918,\n",
       "  1035,\n",
       "  2791,\n",
       "  2687,\n",
       "  2018,\n",
       "  3105,\n",
       "  2797,\n",
       "  2321,\n",
       "  720,\n",
       "  1270,\n",
       "  527,\n",
       "  2340,\n",
       "  48,\n",
       "  1097,\n",
       "  1721,\n",
       "  1545,\n",
       "  745,\n",
       "  2294,\n",
       "  3186,\n",
       "  1566,\n",
       "  588,\n",
       "  1907,\n",
       "  783,\n",
       "  1836,\n",
       "  1022,\n",
       "  2762,\n",
       "  150,\n",
       "  1,\n",
       "  1961,\n",
       "  1962,\n",
       "  2692,\n",
       "  260,\n",
       "  1028,\n",
       "  1029,\n",
       "  1207,\n",
       "  2028,\n",
       "  531,\n",
       "  3114,\n",
       "  608,\n",
       "  1246],\n",
       " 2: [1357,\n",
       "  3068,\n",
       "  1537,\n",
       "  647,\n",
       "  2194,\n",
       "  648,\n",
       "  2268,\n",
       "  2628,\n",
       "  1103,\n",
       "  2916,\n",
       "  3468,\n",
       "  1210,\n",
       "  1792,\n",
       "  1687,\n",
       "  1213,\n",
       "  3578,\n",
       "  2881,\n",
       "  3030,\n",
       "  1217,\n",
       "  3105,\n",
       "  434,\n",
       "  2126,\n",
       "  3107,\n",
       "  3108,\n",
       "  3035,\n",
       "  1253,\n",
       "  1610,\n",
       "  292,\n",
       "  2236,\n",
       "  3071,\n",
       "  902,\n",
       "  368,\n",
       "  1259,\n",
       "  3147,\n",
       "  1544,\n",
       "  1293,\n",
       "  1188,\n",
       "  3255,\n",
       "  3256,\n",
       "  3257,\n",
       "  110,\n",
       "  2278,\n",
       "  2490,\n",
       "  1834,\n",
       "  3471,\n",
       "  589,\n",
       "  1690]}"
      ]
     },
     "execution_count": 90,
     "metadata": {},
     "output_type": "execute_result"
    }
   ],
   "source": [
    "ratings = pd.read_table(\n",
    "    \"data/ml-1m/ratings.dat\",\n",
    "    header=None,\n",
    "    sep=\"::\",\n",
    "    names=[\"user_id\", \"movie_id\", \"rating\", \"timestamp\"],\n",
    "    nrows=100,\n",
    ")\n",
    "ratings.groupby(\"user_id\")[\"movie_id\"].apply(list).to_dict()"
   ]
  },
  {
   "cell_type": "code",
   "execution_count": 71,
   "metadata": {},
   "outputs": [
    {
     "data": {
      "text/plain": [
       "2"
      ]
     },
     "execution_count": 71,
     "metadata": {},
     "output_type": "execute_result"
    }
   ],
   "source": [
    "np.random.choice(df_train[\"user_id\"].unique(), replace=True)"
   ]
  },
  {
   "cell_type": "code",
   "execution_count": 61,
   "metadata": {},
   "outputs": [
    {
     "data": {
      "text/html": [
       "<div><style>\n",
       ".dataframe > thead > tr,\n",
       ".dataframe > tbody > tr {\n",
       "  text-align: right;\n",
       "  white-space: pre-wrap;\n",
       "}\n",
       "</style>\n",
       "<small>shape: (96, 2)</small><table border=\"1\" class=\"dataframe\"><thead><tr><th>user_id</th><th>movie_id</th></tr><tr><td>i64</td><td>i64</td></tr></thead><tbody><tr><td>1</td><td>3186</td></tr><tr><td>1</td><td>1270</td></tr><tr><td>1</td><td>1721</td></tr><tr><td>1</td><td>1022</td></tr><tr><td>1</td><td>2340</td></tr><tr><td>1</td><td>1836</td></tr><tr><td>1</td><td>3408</td></tr><tr><td>1</td><td>2804</td></tr><tr><td>1</td><td>1207</td></tr><tr><td>1</td><td>1193</td></tr><tr><td>1</td><td>720</td></tr><tr><td>1</td><td>260</td></tr><tr><td>&hellip;</td><td>&hellip;</td></tr><tr><td>2</td><td>648</td></tr><tr><td>2</td><td>1792</td></tr><tr><td>2</td><td>2490</td></tr><tr><td>2</td><td>2881</td></tr><tr><td>2</td><td>3107</td></tr><tr><td>2</td><td>368</td></tr><tr><td>2</td><td>2628</td></tr><tr><td>2</td><td>1690</td></tr><tr><td>2</td><td>3257</td></tr><tr><td>2</td><td>2126</td></tr><tr><td>2</td><td>292</td></tr><tr><td>2</td><td>1687</td></tr></tbody></table></div>"
      ],
      "text/plain": [
       "shape: (96, 2)\n",
       "┌─────────┬──────────┐\n",
       "│ user_id ┆ movie_id │\n",
       "│ ---     ┆ ---      │\n",
       "│ i64     ┆ i64      │\n",
       "╞═════════╪══════════╡\n",
       "│ 1       ┆ 3186     │\n",
       "│ 1       ┆ 1270     │\n",
       "│ 1       ┆ 1721     │\n",
       "│ 1       ┆ 1022     │\n",
       "│ …       ┆ …        │\n",
       "│ 2       ┆ 3257     │\n",
       "│ 2       ┆ 2126     │\n",
       "│ 2       ┆ 292      │\n",
       "│ 2       ┆ 1687     │\n",
       "└─────────┴──────────┘"
      ]
     },
     "execution_count": 61,
     "metadata": {},
     "output_type": "execute_result"
    }
   ],
   "source": [
    "df_train[[\"user_id\", \"movie_id\"]]"
   ]
  },
  {
   "cell_type": "code",
   "execution_count": 59,
   "metadata": {},
   "outputs": [
    {
     "data": {
      "text/html": [
       "<div><style>\n",
       ".dataframe > thead > tr,\n",
       ".dataframe > tbody > tr {\n",
       "  text-align: right;\n",
       "  white-space: pre-wrap;\n",
       "}\n",
       "</style>\n",
       "<small>shape: (96, 2)</small><table border=\"1\" class=\"dataframe\"><thead><tr><th>user_id</th><th>movie_id</th></tr><tr><td>i64</td><td>i64</td></tr></thead><tbody><tr><td>1</td><td>3186</td></tr><tr><td>1</td><td>1270</td></tr><tr><td>1</td><td>1721</td></tr><tr><td>1</td><td>1022</td></tr><tr><td>1</td><td>2340</td></tr><tr><td>1</td><td>1836</td></tr><tr><td>1</td><td>3408</td></tr><tr><td>1</td><td>2804</td></tr><tr><td>1</td><td>1207</td></tr><tr><td>1</td><td>1193</td></tr><tr><td>1</td><td>720</td></tr><tr><td>1</td><td>260</td></tr><tr><td>&hellip;</td><td>&hellip;</td></tr><tr><td>2</td><td>648</td></tr><tr><td>2</td><td>1792</td></tr><tr><td>2</td><td>2490</td></tr><tr><td>2</td><td>2881</td></tr><tr><td>2</td><td>3107</td></tr><tr><td>2</td><td>368</td></tr><tr><td>2</td><td>2628</td></tr><tr><td>2</td><td>1690</td></tr><tr><td>2</td><td>3257</td></tr><tr><td>2</td><td>2126</td></tr><tr><td>2</td><td>292</td></tr><tr><td>2</td><td>1687</td></tr></tbody></table></div>"
      ],
      "text/plain": [
       "shape: (96, 2)\n",
       "┌─────────┬──────────┐\n",
       "│ user_id ┆ movie_id │\n",
       "│ ---     ┆ ---      │\n",
       "│ i64     ┆ i64      │\n",
       "╞═════════╪══════════╡\n",
       "│ 1       ┆ 3186     │\n",
       "│ 1       ┆ 1270     │\n",
       "│ 1       ┆ 1721     │\n",
       "│ 1       ┆ 1022     │\n",
       "│ …       ┆ …        │\n",
       "│ 2       ┆ 3257     │\n",
       "│ 2       ┆ 2126     │\n",
       "│ 2       ┆ 292      │\n",
       "│ 2       ┆ 1687     │\n",
       "└─────────┴──────────┘"
      ]
     },
     "execution_count": 59,
     "metadata": {},
     "output_type": "execute_result"
    }
   ],
   "source": [
    "df_train.select([\"user_id\", \"movie_id\"])"
   ]
  },
  {
   "cell_type": "code",
   "execution_count": null,
   "metadata": {},
   "outputs": [],
   "source": []
  }
 ],
 "metadata": {
  "kernelspec": {
   "display_name": "Python 3",
   "language": "python",
   "name": "python3"
  },
  "language_info": {
   "codemirror_mode": {
    "name": "ipython",
    "version": 3
   },
   "file_extension": ".py",
   "mimetype": "text/x-python",
   "name": "python",
   "nbconvert_exporter": "python",
   "pygments_lexer": "ipython3",
   "version": "3.10.13"
  }
 },
 "nbformat": 4,
 "nbformat_minor": 2
}
