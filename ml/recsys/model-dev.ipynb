{
 "cells": [
  {
   "cell_type": "markdown",
   "metadata": {},
   "source": [
    "## Steps\n",
    "1. Reproducing kaggle https://www.kaggle.com/code/jamesloy/deep-learning-based-recommender-systems\n",
    "2. Recreate all models in neural collaborative filtering"
   ]
  },
  {
   "cell_type": "code",
   "execution_count": 1,
   "metadata": {},
   "outputs": [],
   "source": [
    "import os\n",
    "\n",
    "os.chdir(\"/Users/yenchenchou/Documents/GitHub/mle-career-path\")"
   ]
  },
  {
   "cell_type": "code",
   "execution_count": 2,
   "metadata": {},
   "outputs": [],
   "source": [
    "import random\n",
    "import polars as pl\n",
    "import pandas as pd\n",
    "import numpy as np\n",
    "import torch\n",
    "from torch.utils.data import Dataset, DataLoader\n",
    "from torchvision import datasets"
   ]
  },
  {
   "cell_type": "code",
   "execution_count": 6,
   "metadata": {},
   "outputs": [],
   "source": [
    "from ml.recsys.movielens_data import EnvInit, DataDownloader, DataCleaner, FeatEngineer"
   ]
  },
  {
   "cell_type": "code",
   "execution_count": 4,
   "metadata": {},
   "outputs": [],
   "source": [
    "env_init = EnvInit()\n",
    "seed = env_init.fix_seed(seed=12345)\n",
    "device = env_init.available_device()"
   ]
  },
  {
   "cell_type": "code",
   "execution_count": 7,
   "metadata": {},
   "outputs": [
    {
     "name": "stderr",
     "output_type": "stream",
     "text": [
      "/Users/yenchenchou/Documents/GitHub/mle-career-path/ml/recsys/movielens_data.py:34: ParserWarning: Falling back to the 'python' engine because the 'c' engine does not support regex separators (separators > 1 char and different from '\\s+' are interpreted as regex); you can avoid this warning by specifying engine='python'.\n",
      "  pd.read_table(\n"
     ]
    },
    {
     "data": {
      "text/html": [
       "<div><style>\n",
       ".dataframe > thead > tr,\n",
       ".dataframe > tbody > tr {\n",
       "  text-align: right;\n",
       "  white-space: pre-wrap;\n",
       "}\n",
       "</style>\n",
       "<small>shape: (5, 4)</small><table border=\"1\" class=\"dataframe\"><thead><tr><th>user_id</th><th>movie_id</th><th>rating</th><th>timestamp</th></tr><tr><td>i32</td><td>i32</td><td>i32</td><td>i64</td></tr></thead><tbody><tr><td>1</td><td>3186</td><td>4</td><td>978300019</td></tr><tr><td>1</td><td>1270</td><td>5</td><td>978300055</td></tr><tr><td>1</td><td>1721</td><td>4</td><td>978300055</td></tr><tr><td>1</td><td>1022</td><td>5</td><td>978300055</td></tr><tr><td>1</td><td>2340</td><td>3</td><td>978300103</td></tr></tbody></table></div>"
      ],
      "text/plain": [
       "shape: (5, 4)\n",
       "┌─────────┬──────────┬────────┬───────────┐\n",
       "│ user_id ┆ movie_id ┆ rating ┆ timestamp │\n",
       "│ ---     ┆ ---      ┆ ---    ┆ ---       │\n",
       "│ i32     ┆ i32      ┆ i32    ┆ i64       │\n",
       "╞═════════╪══════════╪════════╪═══════════╡\n",
       "│ 1       ┆ 3186     ┆ 4      ┆ 978300019 │\n",
       "│ 1       ┆ 1270     ┆ 5      ┆ 978300055 │\n",
       "│ 1       ┆ 1721     ┆ 4      ┆ 978300055 │\n",
       "│ 1       ┆ 1022     ┆ 5      ┆ 978300055 │\n",
       "│ 1       ┆ 2340     ┆ 3      ┆ 978300103 │\n",
       "└─────────┴──────────┴────────┴───────────┘"
      ]
     },
     "execution_count": 7,
     "metadata": {},
     "output_type": "execute_result"
    }
   ],
   "source": [
    "downloader = DataDownloader()\n",
    "cleaner = DataCleaner()\n",
    "featengineer = FeatEngineer()\n",
    "df = downloader()\n",
    "df = cleaner(df)\n",
    "df = featengineer(df)\n",
    "df.head()"
   ]
  },
  {
   "cell_type": "code",
   "execution_count": 10,
   "metadata": {},
   "outputs": [
    {
     "name": "stdout",
     "output_type": "stream",
     "text": [
      "1 3408\n",
      "1 260\n",
      "1 938\n",
      "1 1097\n",
      "1 914\n",
      "1 661\n",
      "1 531\n",
      "1 2791\n",
      "2 2194\n",
      "2 647\n",
      "2 1188\n",
      "2 3107\n",
      "2 292\n",
      "1 1022\n",
      "1 720\n",
      "1 1962\n",
      "1 150\n",
      "1 2918\n",
      "1 1029\n",
      "1 588\n",
      "1 1\n",
      "2 1357\n",
      "2 1687\n",
      "1 1270\n",
      "1 2340\n",
      "1 2018\n",
      "1 3114\n",
      "1 2294\n",
      "2 1217\n",
      "2 1213\n",
      "2 3147\n",
      "2 1537\n",
      "2 3257\n",
      "2 434\n",
      "1 1193\n",
      "1 2692\n",
      "2 3468\n",
      "2 1610\n",
      "2 2881\n",
      "1 3186\n",
      "1 527\n",
      "2 1253\n",
      "2 3071\n",
      "2 2236\n",
      "2 1792\n",
      "1 1207\n",
      "1 608\n",
      "1 2797\n",
      "1 745\n",
      "2 1210\n",
      "2 3068\n",
      "2 3255\n",
      "2 2916\n",
      "1 919\n",
      "1 1246\n",
      "1 1566\n",
      "1 1907\n",
      "2 3035\n",
      "2 3256\n",
      "1 1836\n",
      "1 2028\n",
      "1 1035\n",
      "1 1287\n",
      "1 2687\n",
      "1 48\n",
      "2 110\n",
      "2 3108\n",
      "2 2490\n",
      "2 1544\n",
      "1 2804\n",
      "1 1028\n",
      "1 2321\n",
      "1 594\n",
      "1 595\n",
      "2 3030\n",
      "1 1197\n",
      "1 1545\n",
      "1 2355\n",
      "2 3105\n",
      "2 902\n",
      "2 2278\n",
      "2 1690\n",
      "2 2126\n",
      "1 3105\n",
      "2 1293\n",
      "2 3471\n",
      "2 2268\n",
      "2 368\n",
      "1 1721\n",
      "1 1961\n",
      "1 2762\n",
      "1 2398\n",
      "1 783\n",
      "2 1834\n",
      "2 1259\n",
      "2 1103\n",
      "2 3578\n",
      "2 589\n",
      "2 648\n",
      "2 2628\n"
     ]
    }
   ],
   "source": [
    "for u, i in df[[\"user_id\", \"movie_id\"]].unique().iter_rows():\n",
    "    print(u, i)"
   ]
  },
  {
   "cell_type": "code",
   "execution_count": null,
   "metadata": {},
   "outputs": [],
   "source": [
    "# Get a list of all movie IDs\n",
    "all_movieIds = ratings['movieId'].unique()\n",
    "\n",
    "# Placeholfers that will hold the training data\n",
    "users, items, labels = [], [], []\n",
    "\n",
    "# This is the set of items that each usesr has interaction with\n",
    "user_item_set = set(zip(train_ratings['userId'],train_ratings['movieId']))\n",
    "\n",
    "# 4:1 ratio of negative to positive samples\n",
    "num_negatives = 4\n",
    "\n",
    "for (u, i) in tqdm(user_item_set):\n",
    "    users.append(u)\n",
    "    items.append(i)\n",
    "    labels.append(1) # items that the user has interacted with are positive\n",
    "    for _ in range(num_negatives):\n",
    "        # randomly select an item\n",
    "        negative_item = np.random.choice(all_movieIds)\n",
    "        # check that the user has not interacted with this item\n",
    "        while (u, negative_item) in user_item_set:\n",
    "            negative_item = np.random.choice(all_movieIds)\n",
    "        users.append(u)\n",
    "        items.append(negative_item)\n",
    "        labels.append(0) # items not interacted with are negative"
   ]
  }
 ],
 "metadata": {
  "kernelspec": {
   "display_name": "Python 3",
   "language": "python",
   "name": "python3"
  },
  "language_info": {
   "codemirror_mode": {
    "name": "ipython",
    "version": 3
   },
   "file_extension": ".py",
   "mimetype": "text/x-python",
   "name": "python",
   "nbconvert_exporter": "python",
   "pygments_lexer": "ipython3",
   "version": "3.10.13"
  }
 },
 "nbformat": 4,
 "nbformat_minor": 2
}
