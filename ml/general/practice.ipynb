{
 "cells": [
  {
   "cell_type": "code",
   "execution_count": 49,
   "metadata": {},
   "outputs": [],
   "source": [
    "import math\n",
    "import os\n",
    "import random\n",
    "import string\n",
    "\n",
    "import matplotlib.pyplot as plt\n",
    "import numpy as np\n",
    "import torch\n",
    "import torch.nn as nn\n",
    "import torch.nn.functional as F\n",
    "\n",
    "from typing import Any\n",
    "from graphviz import Digraph\n",
    "\n",
    "os.chdir(\"/home/project\")\n",
    "%matplotlib inline"
   ]
  },
  {
   "cell_type": "code",
   "execution_count": 19,
   "metadata": {},
   "outputs": [
    {
     "name": "stdout",
     "output_type": "stream",
     "text": [
      "torch.Size([2, 30])\n",
      "torch.Size([2, 30])\n"
     ]
    },
    {
     "data": {
      "text/plain": [
       "tensor([[-0.2558, -0.3071,  0.2085, -0.4553,  0.1427,  0.1148, -0.0282,  0.1995,\n",
       "         -0.2040,  0.4150, -0.3980,  0.4788, -0.0854,  0.3569, -0.9645,  0.1672,\n",
       "          0.2869,  0.5950, -0.4446,  0.0805,  0.1618, -0.2504,  0.2641, -0.1299,\n",
       "          0.1458,  0.2906,  0.1374, -0.3642,  0.2721, -0.1877],\n",
       "        [ 0.2401,  0.2756,  0.4716,  0.1437, -0.5999,  0.3556,  0.4561, -0.8795,\n",
       "          0.7760, -0.3915,  0.8004, -0.9142,  0.3616, -0.5338,  0.6964,  1.6452,\n",
       "          1.0959, -1.0724,  0.8340,  0.5345,  0.5786,  0.8510, -0.9939, -1.4520,\n",
       "         -0.0224, -0.0102, -0.5686, -0.1509, -0.4323,  0.1814]],\n",
       "       grad_fn=<AddmmBackward0>)"
      ]
     },
     "execution_count": 19,
     "metadata": {},
     "output_type": "execute_result"
    }
   ],
   "source": [
    "A = torch.nn.Linear(20, 30)\n",
    "x = torch.randn(2, 20)\n",
    "print(A(x).shape)\n",
    "print(A.forward(x).shape)\n",
    "A(x)"
   ]
  },
  {
   "cell_type": "code",
   "execution_count": 24,
   "metadata": {},
   "outputs": [],
   "source": [
    "class Model(nn.Module):\n",
    "    def __init__(self):\n",
    "        super().__init__()\n",
    "        self.linear1 = nn.Linear(2, 4)\n",
    "        self.linear2 = nn.Linear(4, 7)\n",
    "        self.tanh = nn.Tanh()\n",
    "\n",
    "    def forward(self, x):\n",
    "        x = self.linear1(x)\n",
    "        x = self.linear2(x)\n",
    "        return self.tanh(x)\n",
    "\n",
    "\n",
    "model = Model()"
   ]
  },
  {
   "cell_type": "code",
   "execution_count": 45,
   "metadata": {},
   "outputs": [
    {
     "name": "stdout",
     "output_type": "stream",
     "text": [
      "linear1.weight Parameter containing:\n",
      "tensor([[ 0.5696, -0.6223],\n",
      "        [ 0.5823,  0.5367],\n",
      "        [ 0.2778, -0.3831],\n",
      "        [ 0.4206, -0.3492]], requires_grad=True) <class 'torch.nn.parameter.Parameter'> torch.Size([4, 2])\n",
      "linear1.bias Parameter containing:\n",
      "tensor([ 0.3676,  0.1346, -0.6443,  0.5673], requires_grad=True) <class 'torch.nn.parameter.Parameter'> torch.Size([4])\n",
      "linear2.weight Parameter containing:\n",
      "tensor([[ 0.2786,  0.2662,  0.1046, -0.0018],\n",
      "        [-0.4116, -0.1670,  0.2340, -0.0250],\n",
      "        [ 0.3770, -0.3288,  0.3636, -0.0465],\n",
      "        [ 0.0913,  0.4041,  0.1520,  0.2096],\n",
      "        [ 0.3801,  0.0139, -0.1717, -0.2560],\n",
      "        [-0.4974,  0.3775, -0.1229, -0.4550],\n",
      "        [ 0.2996, -0.2543,  0.3079,  0.4933]], requires_grad=True) <class 'torch.nn.parameter.Parameter'> torch.Size([7, 4])\n",
      "linear2.bias Parameter containing:\n",
      "tensor([ 0.2421, -0.0756,  0.3588, -0.4582, -0.4747, -0.1955,  0.0873],\n",
      "       requires_grad=True) <class 'torch.nn.parameter.Parameter'> torch.Size([7])\n"
     ]
    }
   ],
   "source": [
    "for name, param in model.named_parameters():\n",
    "    print(name, param, type(param), param.size())"
   ]
  },
  {
   "cell_type": "code",
   "execution_count": 48,
   "metadata": {},
   "outputs": [
    {
     "name": "stdout",
     "output_type": "stream",
     "text": [
      "Parameter containing:\n",
      "tensor([[ 0.5696, -0.6223],\n",
      "        [ 0.5823,  0.5367],\n",
      "        [ 0.2778, -0.3831],\n",
      "        [ 0.4206, -0.3492]], requires_grad=True) <class 'torch.nn.parameter.Parameter'> torch.Size([4, 2])\n",
      "Parameter containing:\n",
      "tensor([ 0.3676,  0.1346, -0.6443,  0.5673], requires_grad=True) <class 'torch.nn.parameter.Parameter'> torch.Size([4])\n",
      "Parameter containing:\n",
      "tensor([[ 0.2786,  0.2662,  0.1046, -0.0018],\n",
      "        [-0.4116, -0.1670,  0.2340, -0.0250],\n",
      "        [ 0.3770, -0.3288,  0.3636, -0.0465],\n",
      "        [ 0.0913,  0.4041,  0.1520,  0.2096],\n",
      "        [ 0.3801,  0.0139, -0.1717, -0.2560],\n",
      "        [-0.4974,  0.3775, -0.1229, -0.4550],\n",
      "        [ 0.2996, -0.2543,  0.3079,  0.4933]], requires_grad=True) <class 'torch.nn.parameter.Parameter'> torch.Size([7, 4])\n",
      "Parameter containing:\n",
      "tensor([ 0.2421, -0.0756,  0.3588, -0.4582, -0.4747, -0.1955,  0.0873],\n",
      "       requires_grad=True) <class 'torch.nn.parameter.Parameter'> torch.Size([7])\n"
     ]
    }
   ],
   "source": [
    "for param in model.parameters():\n",
    "    print(param, type(param), param.size())"
   ]
  },
  {
   "cell_type": "code",
   "execution_count": null,
   "metadata": {},
   "outputs": [],
   "source": []
  }
 ],
 "metadata": {
  "kernelspec": {
   "display_name": ".venv",
   "language": "python",
   "name": "python3"
  },
  "language_info": {
   "codemirror_mode": {
    "name": "ipython",
    "version": 3
   },
   "file_extension": ".py",
   "mimetype": "text/x-python",
   "name": "python",
   "nbconvert_exporter": "python",
   "pygments_lexer": "ipython3",
   "version": "3.10.11"
  },
  "orig_nbformat": 4
 },
 "nbformat": 4,
 "nbformat_minor": 2
}
