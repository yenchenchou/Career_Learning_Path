{
 "cells": [
  {
   "cell_type": "markdown",
   "metadata": {},
   "source": [
    "## Steps\n",
    "1. Reproducing kaggle https://www.kaggle.com/code/jamesloy/deep-learning-based-recommender-systems\n",
    "2. Recreate all models in neural collaborative filtering"
   ]
  },
  {
   "cell_type": "code",
   "execution_count": 6,
   "metadata": {},
   "outputs": [
    {
     "data": {
      "text/plain": [
       "11"
      ]
     },
     "execution_count": 6,
     "metadata": {},
     "output_type": "execute_result"
    }
   ],
   "source": [
    "def recDiff(arr1 ,arr2):\n",
    "    assert len(arr1) == len(arr2)\n",
    "    if len(arr1) == 1:\n",
    "        return abs(arr1[0] - arr2[0])\n",
    "    else: \n",
    "        return abs(arr1[0]-arr2[0]) + recDiff(arr1[1:],arr2[1:])\n",
    "    \n",
    "\n",
    "arr1 = [1,10,3]\n",
    "arr2 = [0,1,2]\n",
    "recDiff(arr1, arr2)"
   ]
  },
  {
   "cell_type": "code",
   "execution_count": 7,
   "metadata": {},
   "outputs": [
    {
     "data": {
      "text/plain": [
       "6"
      ]
     },
     "execution_count": 7,
     "metadata": {},
     "output_type": "execute_result"
    }
   ],
   "source": [
    "def fb(val: int) -> int:\n",
    "    if val == 1:\n",
    "        return 1\n",
    "    return val * fb(val - 1)\n",
    "\n",
    "fb(3)"
   ]
  },
  {
   "cell_type": "code",
   "execution_count": 23,
   "metadata": {},
   "outputs": [],
   "source": [
    "class ListNode:\n",
    "    def __init__(self, val: int, next=None):\n",
    "        self.val = val\n",
    "        self.next = next\n",
    "\n",
    "\n",
    "def print_list(node: ListNode) -> list[int]:\n",
    "    ans = []\n",
    "    while node:\n",
    "        ans.append(node.val)\n",
    "        node = node.next\n",
    "    return ans\n",
    "\n",
    "\n",
    "node1 = ListNode(1)\n",
    "node2 = ListNode(2)\n",
    "node3 = ListNode(3)\n",
    "node4 = ListNode(4)\n",
    "node1.next = node2\n",
    "node2.next = node3\n",
    "node3.next = node4\n",
    "\n",
    "node1_2 = ListNode(1)\n",
    "node2_2 = ListNode(2)\n",
    "node3_2 = ListNode(3)\n",
    "node4_2 = ListNode(4)\n",
    "node5_2 = ListNode(5)\n",
    "node1_2.next = node2_2\n",
    "node2_2.next = node3_2\n",
    "node3_2.next = node4_2\n",
    "node4_2.next = node5_2"
   ]
  },
  {
   "cell_type": "code",
   "execution_count": 24,
   "metadata": {},
   "outputs": [
    {
     "data": {
      "text/plain": [
       "[1, 2, 3, 4]"
      ]
     },
     "execution_count": 24,
     "metadata": {},
     "output_type": "execute_result"
    }
   ],
   "source": [
    "print_list(node1)"
   ]
  },
  {
   "cell_type": "code",
   "execution_count": 25,
   "metadata": {},
   "outputs": [
    {
     "data": {
      "text/plain": [
       "[1, 2, 4]"
      ]
     },
     "execution_count": 25,
     "metadata": {},
     "output_type": "execute_result"
    }
   ],
   "source": [
    "class Solution:\n",
    "    def del_node(self, head: ListNode, target: int) -> ListNode:\n",
    "        prev, curr = None, head\n",
    "        while curr:\n",
    "            if curr.val == target:\n",
    "                prev.next = curr.next\n",
    "                curr.next = None\n",
    "            prev = curr\n",
    "            curr = curr.next\n",
    "        return head\n",
    "\n",
    "\n",
    "\n",
    "sol = Solution()\n",
    "print_list(sol.del_node(node1, target=3))"
   ]
  },
  {
   "cell_type": "code",
   "execution_count": 26,
   "metadata": {},
   "outputs": [
    {
     "data": {
      "text/plain": [
       "[1, 2, 4, 5]"
      ]
     },
     "execution_count": 26,
     "metadata": {},
     "output_type": "execute_result"
    }
   ],
   "source": [
    "print_list(sol.del_node(node1_2, target=3))"
   ]
  },
  {
   "cell_type": "code",
   "execution_count": 28,
   "metadata": {},
   "outputs": [
    {
     "data": {
      "text/plain": [
       "[1, 2, 3, 4]"
      ]
     },
     "execution_count": 28,
     "metadata": {},
     "output_type": "execute_result"
    }
   ],
   "source": [
    "node1_2 = ListNode(1)\n",
    "node2_2 = ListNode(2)\n",
    "node3_2 = ListNode(3)\n",
    "node4_2 = ListNode(4)\n",
    "node5_2 = ListNode(5)\n",
    "node1_2.next = node2_2\n",
    "node2_2.next = node3_2\n",
    "node3_2.next = node4_2\n",
    "node4_2.next = node5_2\n",
    "print_list(sol.del_node(node1_2, target=5))"
   ]
  },
  {
   "cell_type": "code",
   "execution_count": null,
   "metadata": {},
   "outputs": [],
   "source": []
  }
 ],
 "metadata": {
  "kernelspec": {
   "display_name": "Python 3",
   "language": "python",
   "name": "python3"
  },
  "language_info": {
   "codemirror_mode": {
    "name": "ipython",
    "version": 3
   },
   "file_extension": ".py",
   "mimetype": "text/x-python",
   "name": "python",
   "nbconvert_exporter": "python",
   "pygments_lexer": "ipython3",
   "version": "3.10.13"
  }
 },
 "nbformat": 4,
 "nbformat_minor": 2
}
